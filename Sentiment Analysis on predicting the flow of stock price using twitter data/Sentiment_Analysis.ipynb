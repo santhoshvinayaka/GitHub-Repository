{
  "nbformat": 4,
  "nbformat_minor": 0,
  "metadata": {
    "colab": {
      "name": "Sentiment Analysis.ipynb",
      "provenance": []
    },
    "kernelspec": {
      "name": "python3",
      "display_name": "Python 3"
    }
  },
  "cells": [
    {
      "cell_type": "code",
      "metadata": {
        "id": "lubW4giVNVO_",
        "colab_type": "code",
        "colab": {}
      },
      "source": [
        "#importing the libraries\n",
        "import tweepy\n",
        "from textblob import TextBlob\n",
        "from wordcloud import WordCloud\n",
        "import pandas as pd\n",
        "import numpy as np\n",
        "import re\n",
        "import matplotlib.pyplot as plt\n",
        "plt.style.use('fivethirtyeight')"
      ],
      "execution_count": null,
      "outputs": []
    },
    {
      "cell_type": "code",
      "metadata": {
        "id": "uU5NW1A-NaW3",
        "colab_type": "code",
        "colab": {}
      },
      "source": [
        "#twitter APIs\n",
        "consumerKey = 'HDThWtoHaYKJkSWlCykSJb5TT'\n",
        "consumerSecret = 'tY9AdGjfN2jMt6eQoi8g5Q5qq0uSMQac924bK6h2PxhEPc4E4b'\n",
        "accessToken = '1286283983190396929-KSg3VjZSwIZbfUPY1OVV8tJ3zGQ3Na'\n",
        "accessTokenSecret = 'HoQ6rNp7lVXZ8QrCSojBywYXCgCyJNeZUMnIiquj58MKo'"
      ],
      "execution_count": null,
      "outputs": []
    },
    {
      "cell_type": "code",
      "metadata": {
        "id": "5JXEAfUXOwAO",
        "colab_type": "code",
        "colab": {}
      },
      "source": [
        "#create the authentication object\n",
        "authenticate = tweepy.OAuthHandler(consumerKey, consumerSecret)\n",
        "\n",
        "#set the access token and access token secret\n",
        "authenticate.set_access_token(accessToken, accessTokenSecret)\n",
        "\n",
        "#create the API object while passing in the auth information\n",
        "api = tweepy.API(authenticate, wait_on_rate_limit= True)"
      ],
      "execution_count": null,
      "outputs": []
    },
    {
      "cell_type": "code",
      "metadata": {
        "id": "3bn_WcutQEuF",
        "colab_type": "code",
        "colab": {
          "base_uri": "https://localhost:8080/",
          "height": 655
        },
        "outputId": "b1296d04-b90b-42c5-bd76-261c086a7409"
      },
      "source": [
        "#Extract 100 tweets from the twitter user\n",
        "posts = api.user_timeline(screen_name = \"SJosephBurns\", count = 100, lang = \"en\", tweet_mode = \"extended\")\n",
        "\n",
        "#print the last 10 tweets from the account\n",
        "print(\"Show the 10 recent tweets: \\n\")\n",
        "i=1\n",
        "for tweet in posts[0:10]:\n",
        "  print(str(i) + ') ' + tweet.full_text + '\\n')\n",
        "  i=i+1"
      ],
      "execution_count": null,
      "outputs": [
        {
          "output_type": "stream",
          "text": [
            "Show the 10 recent tweets: \n",
            "\n",
            "1) The dollar hit four-month lows against a basket of peer currencies and gold rose for a fifth straight session to hit a fresh nine-year high: @YahooFinance\n",
            "\n",
            "2) A great stock market mentor I recommend is @DanFitzpatrick. \n",
            "\n",
            "Dan is a great stock market &amp; option educator &amp; trader in all areas. \n",
            "\n",
            "He has a free chart pattern of the day. \n",
            "\n",
            "Access to Dan’s Private Trading Forum for $0.00 — 100% FREE here 👇🏻\n",
            "\n",
            "https://t.co/icgiPqPEbM\n",
            "\n",
            "#NTUpartner https://t.co/BjEWbyFGYr\n",
            "\n",
            "3) @ClutchBP @johnscharts @pawan1234o @T66476371 Outstanding!\n",
            "\n",
            "4) Reliance Industries Ltd isn’t a stock, it’s a bet on Mukesh Ambani. $RIL 🇮🇳\n",
            "\n",
            "5) @SSalim0002 Big caps 👎🏻\n",
            "\n",
            "6) MUSK'S SPACEX IN TALKS TO RAISE FUNDS AT $44 BILLION VALUATION: @DeItaOne\n",
            "\n",
            "7) FREE Candlestick 101 eCourse Coupon for my followers courtesy of @MarwoodJB 👇🏻$0👇🏻\n",
            "\n",
            "A course that reveals the historical performance of all the classic candlestick patterns, allowing you to trade with more confidence and knowledge: \n",
            "\n",
            "https://t.co/xHbPm4R7E0\n",
            "\n",
            "#NTUpartner https://t.co/J5245TrtyV\n",
            "\n",
            "8) @Philips_247 Amen, preach.\n",
            "\n",
            "9) It is always a good day when indexes are red but your positions are all green. 😊 $FAS $KMX $IWM\n",
            "\n",
            "10) The Rare Trading Edge https://t.co/qYLO93Ye8A\n",
            "\n"
          ],
          "name": "stdout"
        }
      ]
    },
    {
      "cell_type": "code",
      "metadata": {
        "id": "X4_lCVWuRbxq",
        "colab_type": "code",
        "colab": {
          "base_uri": "https://localhost:8080/",
          "height": 195
        },
        "outputId": "4b48eecd-15e5-4530-d610-51823ed89c57"
      },
      "source": [
        "#create a dataframe with a column called tweets\n",
        "df = pd.DataFrame([tweet.full_text for tweet in posts] , columns=['Tweets'])\n",
        "\n",
        "#show the first 5 rows of data\n",
        "df.head()"
      ],
      "execution_count": null,
      "outputs": [
        {
          "output_type": "execute_result",
          "data": {
            "text/html": [
              "<div>\n",
              "<style scoped>\n",
              "    .dataframe tbody tr th:only-of-type {\n",
              "        vertical-align: middle;\n",
              "    }\n",
              "\n",
              "    .dataframe tbody tr th {\n",
              "        vertical-align: top;\n",
              "    }\n",
              "\n",
              "    .dataframe thead th {\n",
              "        text-align: right;\n",
              "    }\n",
              "</style>\n",
              "<table border=\"1\" class=\"dataframe\">\n",
              "  <thead>\n",
              "    <tr style=\"text-align: right;\">\n",
              "      <th></th>\n",
              "      <th>Tweets</th>\n",
              "    </tr>\n",
              "  </thead>\n",
              "  <tbody>\n",
              "    <tr>\n",
              "      <th>0</th>\n",
              "      <td>The dollar hit four-month lows against a baske...</td>\n",
              "    </tr>\n",
              "    <tr>\n",
              "      <th>1</th>\n",
              "      <td>A great stock market mentor I recommend is @Da...</td>\n",
              "    </tr>\n",
              "    <tr>\n",
              "      <th>2</th>\n",
              "      <td>@ClutchBP @johnscharts @pawan1234o @T66476371 ...</td>\n",
              "    </tr>\n",
              "    <tr>\n",
              "      <th>3</th>\n",
              "      <td>Reliance Industries Ltd isn’t a stock, it’s a ...</td>\n",
              "    </tr>\n",
              "    <tr>\n",
              "      <th>4</th>\n",
              "      <td>@SSalim0002 Big caps 👎🏻</td>\n",
              "    </tr>\n",
              "  </tbody>\n",
              "</table>\n",
              "</div>"
            ],
            "text/plain": [
              "                                              Tweets\n",
              "0  The dollar hit four-month lows against a baske...\n",
              "1  A great stock market mentor I recommend is @Da...\n",
              "2  @ClutchBP @johnscharts @pawan1234o @T66476371 ...\n",
              "3  Reliance Industries Ltd isn’t a stock, it’s a ...\n",
              "4                            @SSalim0002 Big caps 👎🏻"
            ]
          },
          "metadata": {
            "tags": []
          },
          "execution_count": 5
        }
      ]
    },
    {
      "cell_type": "code",
      "metadata": {
        "id": "gMvX4eBzTOOd",
        "colab_type": "code",
        "colab": {
          "base_uri": "https://localhost:8080/",
          "height": 402
        },
        "outputId": "eb89b145-0b86-41e0-8f8f-a2ff49246178"
      },
      "source": [
        "#clean the text\n",
        "\n",
        "#create a function to clean the texts\n",
        "def cleanTxt(text):\n",
        "  text = re.sub(r'@[A-Za-z0-9_]+', '', text) #removes @mentions\n",
        "  text = re.sub(r'#', '', text) #removes the # symbol\n",
        "  text = re.sub(r'$[A-Za-z0-9_]+', '', text) #removes the $ symbol\n",
        "  text = re.sub(r'RT[\\s]+', '', text) #removes RT\n",
        "  text = re.sub(r'https?:\\/\\/\\S+', '', text) # removes the hyperlink\n",
        "  emoji_pattern = u'This is a smiley face \\U0001f602'\n",
        "  text = re.sub(emoji_pattern, '', text)\n",
        "\n",
        "  return text\n",
        "\n",
        "#cleaning the text\n",
        "df['Tweets'] = df['Tweets'].apply(cleanTxt)\n",
        "\n",
        "#show the cleaned text\n",
        "df"
      ],
      "execution_count": null,
      "outputs": [
        {
          "output_type": "execute_result",
          "data": {
            "text/html": [
              "<div>\n",
              "<style scoped>\n",
              "    .dataframe tbody tr th:only-of-type {\n",
              "        vertical-align: middle;\n",
              "    }\n",
              "\n",
              "    .dataframe tbody tr th {\n",
              "        vertical-align: top;\n",
              "    }\n",
              "\n",
              "    .dataframe thead th {\n",
              "        text-align: right;\n",
              "    }\n",
              "</style>\n",
              "<table border=\"1\" class=\"dataframe\">\n",
              "  <thead>\n",
              "    <tr style=\"text-align: right;\">\n",
              "      <th></th>\n",
              "      <th>Tweets</th>\n",
              "    </tr>\n",
              "  </thead>\n",
              "  <tbody>\n",
              "    <tr>\n",
              "      <th>0</th>\n",
              "      <td>The dollar hit four-month lows against a baske...</td>\n",
              "    </tr>\n",
              "    <tr>\n",
              "      <th>1</th>\n",
              "      <td>A great stock market mentor I recommend is . \\...</td>\n",
              "    </tr>\n",
              "    <tr>\n",
              "      <th>2</th>\n",
              "      <td>Outstanding!</td>\n",
              "    </tr>\n",
              "    <tr>\n",
              "      <th>3</th>\n",
              "      <td>Reliance Industries Ltd isn’t a stock, it’s a ...</td>\n",
              "    </tr>\n",
              "    <tr>\n",
              "      <th>4</th>\n",
              "      <td>Big caps 👎🏻</td>\n",
              "    </tr>\n",
              "    <tr>\n",
              "      <th>...</th>\n",
              "      <td>...</td>\n",
              "    </tr>\n",
              "    <tr>\n",
              "      <th>95</th>\n",
              "      <td>It can be a wild one.</td>\n",
              "    </tr>\n",
              "    <tr>\n",
              "      <th>96</th>\n",
              "      <td>SILVER ISHARES REACH FOUR-YEAR HIGH: $SLV</td>\n",
              "    </tr>\n",
              "    <tr>\n",
              "      <th>97</th>\n",
              "      <td>What is a Swing Trader?</td>\n",
              "    </tr>\n",
              "    <tr>\n",
              "      <th>98</th>\n",
              "      <td>Best Finance Movies on Netflix</td>\n",
              "    </tr>\n",
              "    <tr>\n",
              "      <th>99</th>\n",
              "      <td>This is very diverse stock market price action...</td>\n",
              "    </tr>\n",
              "  </tbody>\n",
              "</table>\n",
              "<p>100 rows × 1 columns</p>\n",
              "</div>"
            ],
            "text/plain": [
              "                                               Tweets\n",
              "0   The dollar hit four-month lows against a baske...\n",
              "1   A great stock market mentor I recommend is . \\...\n",
              "2                                        Outstanding!\n",
              "3   Reliance Industries Ltd isn’t a stock, it’s a ...\n",
              "4                                         Big caps 👎🏻\n",
              "..                                                ...\n",
              "95                              It can be a wild one.\n",
              "96         SILVER ISHARES REACH FOUR-YEAR HIGH: $SLV \n",
              "97                           What is a Swing Trader? \n",
              "98                    Best Finance Movies on Netflix \n",
              "99  This is very diverse stock market price action...\n",
              "\n",
              "[100 rows x 1 columns]"
            ]
          },
          "metadata": {
            "tags": []
          },
          "execution_count": 6
        }
      ]
    },
    {
      "cell_type": "code",
      "metadata": {
        "id": "MxPJBtoDWYSS",
        "colab_type": "code",
        "colab": {
          "base_uri": "https://localhost:8080/",
          "height": 402
        },
        "outputId": "2824d333-6796-4eab-a6b4-86ad9fbdaaf6"
      },
      "source": [
        "#create a function to get subjectivity\n",
        "def getSubjectivity(text):\n",
        "  return TextBlob(text).sentiment.subjectivity\n",
        "\n",
        "#create a function to get the polarity\n",
        "def getPolarity(text):\n",
        "  return TextBlob(text).sentiment.polarity\n",
        "\n",
        "#create two new columns\n",
        "df['Subjectivity'] = df['Tweets'].apply(getSubjectivity)\n",
        "df['Polarity'] = df['Tweets'].apply(getPolarity)\n",
        "\n",
        "#Show the new dataframe with the new columns\n",
        "df"
      ],
      "execution_count": null,
      "outputs": [
        {
          "output_type": "execute_result",
          "data": {
            "text/html": [
              "<div>\n",
              "<style scoped>\n",
              "    .dataframe tbody tr th:only-of-type {\n",
              "        vertical-align: middle;\n",
              "    }\n",
              "\n",
              "    .dataframe tbody tr th {\n",
              "        vertical-align: top;\n",
              "    }\n",
              "\n",
              "    .dataframe thead th {\n",
              "        text-align: right;\n",
              "    }\n",
              "</style>\n",
              "<table border=\"1\" class=\"dataframe\">\n",
              "  <thead>\n",
              "    <tr style=\"text-align: right;\">\n",
              "      <th></th>\n",
              "      <th>Tweets</th>\n",
              "      <th>Subjectivity</th>\n",
              "      <th>Polarity</th>\n",
              "    </tr>\n",
              "  </thead>\n",
              "  <tbody>\n",
              "    <tr>\n",
              "      <th>0</th>\n",
              "      <td>The dollar hit four-month lows against a baske...</td>\n",
              "      <td>0.5975</td>\n",
              "      <td>0.315</td>\n",
              "    </tr>\n",
              "    <tr>\n",
              "      <th>1</th>\n",
              "      <td>A great stock market mentor I recommend is . \\...</td>\n",
              "      <td>0.6950</td>\n",
              "      <td>0.480</td>\n",
              "    </tr>\n",
              "    <tr>\n",
              "      <th>2</th>\n",
              "      <td>Outstanding!</td>\n",
              "      <td>0.8750</td>\n",
              "      <td>0.625</td>\n",
              "    </tr>\n",
              "    <tr>\n",
              "      <th>3</th>\n",
              "      <td>Reliance Industries Ltd isn’t a stock, it’s a ...</td>\n",
              "      <td>0.0000</td>\n",
              "      <td>0.000</td>\n",
              "    </tr>\n",
              "    <tr>\n",
              "      <th>4</th>\n",
              "      <td>Big caps 👎🏻</td>\n",
              "      <td>0.1000</td>\n",
              "      <td>0.000</td>\n",
              "    </tr>\n",
              "    <tr>\n",
              "      <th>...</th>\n",
              "      <td>...</td>\n",
              "      <td>...</td>\n",
              "      <td>...</td>\n",
              "    </tr>\n",
              "    <tr>\n",
              "      <th>95</th>\n",
              "      <td>It can be a wild one.</td>\n",
              "      <td>0.4000</td>\n",
              "      <td>0.100</td>\n",
              "    </tr>\n",
              "    <tr>\n",
              "      <th>96</th>\n",
              "      <td>SILVER ISHARES REACH FOUR-YEAR HIGH: $SLV</td>\n",
              "      <td>0.5400</td>\n",
              "      <td>0.160</td>\n",
              "    </tr>\n",
              "    <tr>\n",
              "      <th>97</th>\n",
              "      <td>What is a Swing Trader?</td>\n",
              "      <td>0.0000</td>\n",
              "      <td>0.000</td>\n",
              "    </tr>\n",
              "    <tr>\n",
              "      <th>98</th>\n",
              "      <td>Best Finance Movies on Netflix</td>\n",
              "      <td>0.3000</td>\n",
              "      <td>1.000</td>\n",
              "    </tr>\n",
              "    <tr>\n",
              "      <th>99</th>\n",
              "      <td>This is very diverse stock market price action...</td>\n",
              "      <td>0.3810</td>\n",
              "      <td>0.060</td>\n",
              "    </tr>\n",
              "  </tbody>\n",
              "</table>\n",
              "<p>100 rows × 3 columns</p>\n",
              "</div>"
            ],
            "text/plain": [
              "                                               Tweets  Subjectivity  Polarity\n",
              "0   The dollar hit four-month lows against a baske...        0.5975     0.315\n",
              "1   A great stock market mentor I recommend is . \\...        0.6950     0.480\n",
              "2                                        Outstanding!        0.8750     0.625\n",
              "3   Reliance Industries Ltd isn’t a stock, it’s a ...        0.0000     0.000\n",
              "4                                         Big caps 👎🏻        0.1000     0.000\n",
              "..                                                ...           ...       ...\n",
              "95                              It can be a wild one.        0.4000     0.100\n",
              "96         SILVER ISHARES REACH FOUR-YEAR HIGH: $SLV         0.5400     0.160\n",
              "97                           What is a Swing Trader?         0.0000     0.000\n",
              "98                    Best Finance Movies on Netflix         0.3000     1.000\n",
              "99  This is very diverse stock market price action...        0.3810     0.060\n",
              "\n",
              "[100 rows x 3 columns]"
            ]
          },
          "metadata": {
            "tags": []
          },
          "execution_count": 7
        }
      ]
    },
    {
      "cell_type": "code",
      "metadata": {
        "id": "DkXbUe67ZzQ3",
        "colab_type": "code",
        "colab": {
          "base_uri": "https://localhost:8080/",
          "height": 248
        },
        "outputId": "0300a243-ee07-4854-bddc-4b80e2531eb8"
      },
      "source": [
        "#plot the word cloud\n",
        "allWords = ' '.join( [twts for twts in df['Tweets']])\n",
        "wordcloud = WordCloud(width = 500, height = 300, random_state = 21, max_font_size = 119).generate(allWords)\n",
        "\n",
        "plt.imshow(wordcloud, interpolation = \"bilinear\")\n",
        "plt.axis('off')\n",
        "plt.show()"
      ],
      "execution_count": null,
      "outputs": [
        {
          "output_type": "display_data",
          "data": {
            "image/png": "[encoded data removed]",
            "text/plain": [
              "<Figure size 432x288 with 1 Axes>"
            ]
          },
          "metadata": {
            "tags": [],
            "needs_background": "light"
          }
        }
      ]
    },
    {
      "cell_type": "code",
      "metadata": {
        "id": "69_kK8NQbQLZ",
        "colab_type": "code",
        "colab": {
          "base_uri": "https://localhost:8080/",
          "height": 402
        },
        "outputId": "07e8e99e-e2d6-418d-a7a7-0fdcf11f2b0d"
      },
      "source": [
        "#create a function to compute the negative, postive and neutral analysis\n",
        "def getAnalysis(score):\n",
        "  if score < 0:\n",
        "    return 'Negative'\n",
        "  elif score == 0:\n",
        "    return 'Neutral'\n",
        "  else:\n",
        "    return 'Positive'\n",
        "\n",
        "df['Analysis'] = df['Polarity'].apply(getAnalysis)\n",
        "\n",
        "#show the dataframe\n",
        "df"
      ],
      "execution_count": null,
      "outputs": [
        {
          "output_type": "execute_result",
          "data": {
            "text/html": [
              "<div>\n",
              "<style scoped>\n",
              "    .dataframe tbody tr th:only-of-type {\n",
              "        vertical-align: middle;\n",
              "    }\n",
              "\n",
              "    .dataframe tbody tr th {\n",
              "        vertical-align: top;\n",
              "    }\n",
              "\n",
              "    .dataframe thead th {\n",
              "        text-align: right;\n",
              "    }\n",
              "</style>\n",
              "<table border=\"1\" class=\"dataframe\">\n",
              "  <thead>\n",
              "    <tr style=\"text-align: right;\">\n",
              "      <th></th>\n",
              "      <th>Tweets</th>\n",
              "      <th>Subjectivity</th>\n",
              "      <th>Polarity</th>\n",
              "      <th>Analysis</th>\n",
              "    </tr>\n",
              "  </thead>\n",
              "  <tbody>\n",
              "    <tr>\n",
              "      <th>0</th>\n",
              "      <td>The dollar hit four-month lows against a baske...</td>\n",
              "      <td>0.5975</td>\n",
              "      <td>0.315</td>\n",
              "      <td>Positive</td>\n",
              "    </tr>\n",
              "    <tr>\n",
              "      <th>1</th>\n",
              "      <td>A great stock market mentor I recommend is . \\...</td>\n",
              "      <td>0.6950</td>\n",
              "      <td>0.480</td>\n",
              "      <td>Positive</td>\n",
              "    </tr>\n",
              "    <tr>\n",
              "      <th>2</th>\n",
              "      <td>Outstanding!</td>\n",
              "      <td>0.8750</td>\n",
              "      <td>0.625</td>\n",
              "      <td>Positive</td>\n",
              "    </tr>\n",
              "    <tr>\n",
              "      <th>3</th>\n",
              "      <td>Reliance Industries Ltd isn’t a stock, it’s a ...</td>\n",
              "      <td>0.0000</td>\n",
              "      <td>0.000</td>\n",
              "      <td>Neutral</td>\n",
              "    </tr>\n",
              "    <tr>\n",
              "      <th>4</th>\n",
              "      <td>Big caps 👎🏻</td>\n",
              "      <td>0.1000</td>\n",
              "      <td>0.000</td>\n",
              "      <td>Neutral</td>\n",
              "    </tr>\n",
              "    <tr>\n",
              "      <th>...</th>\n",
              "      <td>...</td>\n",
              "      <td>...</td>\n",
              "      <td>...</td>\n",
              "      <td>...</td>\n",
              "    </tr>\n",
              "    <tr>\n",
              "      <th>95</th>\n",
              "      <td>It can be a wild one.</td>\n",
              "      <td>0.4000</td>\n",
              "      <td>0.100</td>\n",
              "      <td>Positive</td>\n",
              "    </tr>\n",
              "    <tr>\n",
              "      <th>96</th>\n",
              "      <td>SILVER ISHARES REACH FOUR-YEAR HIGH: $SLV</td>\n",
              "      <td>0.5400</td>\n",
              "      <td>0.160</td>\n",
              "      <td>Positive</td>\n",
              "    </tr>\n",
              "    <tr>\n",
              "      <th>97</th>\n",
              "      <td>What is a Swing Trader?</td>\n",
              "      <td>0.0000</td>\n",
              "      <td>0.000</td>\n",
              "      <td>Neutral</td>\n",
              "    </tr>\n",
              "    <tr>\n",
              "      <th>98</th>\n",
              "      <td>Best Finance Movies on Netflix</td>\n",
              "      <td>0.3000</td>\n",
              "      <td>1.000</td>\n",
              "      <td>Positive</td>\n",
              "    </tr>\n",
              "    <tr>\n",
              "      <th>99</th>\n",
              "      <td>This is very diverse stock market price action...</td>\n",
              "      <td>0.3810</td>\n",
              "      <td>0.060</td>\n",
              "      <td>Positive</td>\n",
              "    </tr>\n",
              "  </tbody>\n",
              "</table>\n",
              "<p>100 rows × 4 columns</p>\n",
              "</div>"
            ],
            "text/plain": [
              "                                               Tweets  ...  Analysis\n",
              "0   The dollar hit four-month lows against a baske...  ...  Positive\n",
              "1   A great stock market mentor I recommend is . \\...  ...  Positive\n",
              "2                                        Outstanding!  ...  Positive\n",
              "3   Reliance Industries Ltd isn’t a stock, it’s a ...  ...   Neutral\n",
              "4                                         Big caps 👎🏻  ...   Neutral\n",
              "..                                                ...  ...       ...\n",
              "95                              It can be a wild one.  ...  Positive\n",
              "96         SILVER ISHARES REACH FOUR-YEAR HIGH: $SLV   ...  Positive\n",
              "97                           What is a Swing Trader?   ...   Neutral\n",
              "98                    Best Finance Movies on Netflix   ...  Positive\n",
              "99  This is very diverse stock market price action...  ...  Positive\n",
              "\n",
              "[100 rows x 4 columns]"
            ]
          },
          "metadata": {
            "tags": []
          },
          "execution_count": 9
        }
      ]
    },
    {
      "cell_type": "code",
      "metadata": {
        "id": "U2M4ABsef3a5",
        "colab_type": "code",
        "colab": {
          "base_uri": "https://localhost:8080/",
          "height": 1000
        },
        "outputId": "83c96996-7cd4-4964-aea0-c2e5238ccee5"
      },
      "source": [
        "# print all of the positive tweets\n",
        "j=1\n",
        "sortedDF = df.sort_values(by=['Polarity'])\n",
        "for i in range(0, sortedDF.shape[0]):\n",
        "  if(sortedDF['Analysis'][i]=='Positive'):\n",
        "    print(str(j) + ') '+sortedDF['Tweets'][i])\n",
        "    print()\n",
        "    j=j+1"
      ],
      "execution_count": null,
      "outputs": [
        {
          "output_type": "stream",
          "text": [
            "1) The dollar hit four-month lows against a basket of peer currencies and gold rose for a fifth straight session to hit a fresh nine-year high: \n",
            "\n",
            "2) A great stock market mentor I recommend is . \n",
            "\n",
            "Dan is a great stock market &amp; option educator &amp; trader in all areas. \n",
            "\n",
            "He has a free chart pattern of the day. \n",
            "\n",
            "Access to Dan’s Private Trading Forum for $0.00 — 100% FREE here 👇🏻\n",
            "\n",
            "\n",
            "\n",
            "NTUpartner \n",
            "\n",
            "3)     Outstanding!\n",
            "\n",
            "4) FREE Candlestick 101 eCourse Coupon for my followers courtesy of  👇🏻$0👇🏻\n",
            "\n",
            "A course that reveals the historical performance of all the classic candlestick patterns, allowing you to trade with more confidence and knowledge: \n",
            "\n",
            "\n",
            "\n",
            "NTUpartner \n",
            "\n",
            "5) It is always a good day when indexes are red but your positions are all green. 😊 $FAS $KMX $IWM\n",
            "\n",
            "6) The Rare Trading Edge \n",
            "\n",
            "7) Free today:’ The Ultimate Guide to Price Action Trading' by  \n",
            "\n",
            "Learn how to decode the markets so you can identify high probability trading setups consistently for better odds of profitably.\n",
            "\n",
            "Click below to download, it’s free: \n",
            "\n",
            " \n",
            "\n",
            "NTUpartner\n",
            "\n",
            "8) Current Mukesh Ambani Net Worth \n",
            "\n",
            "9) Is Trading The Close Or Open More Profitable?  Guest Post by \n",
            "\n",
            "10) Twitter reported a second-quarter loss of $1.2 billion, largely driven by the reversal of a tax benefit established last year:  $TWTR \n",
            "\n",
            "11)  All but two of my books are available in paperback. Thanks. 😊\n",
            "\n",
            "12) EURO CLIMBS TO TWO -YEAR HIGH: \n",
            "\n",
            "13) What new traders want is an opinion and a prediction, what they need is a trading system with a positive expectancy.\n",
            "\n",
            "14) Up trends tend to be clean and downtrends tend to be more volatile.\n",
            "\n",
            "15) Day traders love volatility.\n",
            "\n",
            "16) For most traders and investors the easiest money is made in trends.\n",
            "\n",
            "17) \"The farther price is from a linear trend, the more likely it is to correct.\" - Tyler Bollhorn\n",
            "\n",
            "18) \"For most traders, profits are short term loans from the market.\" - Tyler Bollhorn\n",
            "\n",
            "19) “Stocks are only cheap if they are going higher after you buy them.” - Tyler Bollhorn\n",
            "\n",
            "20) What Are The Best Technical Indicators? \n",
            "\n",
            "21) 18 Habits of Rich Traders \n",
            "\n",
            "22) The 10 Mental Errors That New Traders Make \n",
            "\n",
            "23) If people could really predict the future of the markets, they would already know we don't care about their predictions.\n",
            "\n",
            "24) Your greatest growth will not be in trying new things but in learning from the feedback of both success and failure.\n",
            "\n",
            "25) Successful models can be a shortcut to your own goals.\n",
            "\n",
            "26) Pain is a great educator.\n",
            "\n",
            "27) Doing is the greatest teacher.\n",
            "\n",
            "28) My two favorite non-profit organizations are $UBER and AirBnB. You can donate by buying $UBER stock or the AirBnB IPO.\n",
            "\n",
            "29)       Thanks, I reported it again and that now the account is trying to run scams.\n",
            "\n",
            "30) The Best Back Tested Trading Strategies With Moving Averages \n",
            "\n",
            "31) “Never fall in love with a stock, always have an open mind.” - Peter Lynch\n",
            "\n",
            "32) Chart patterns, technical analysis, and entry signals are all just possibilities in trading, the only thing that works for profitable trading is good risk/reward ratios.\n",
            "\n",
            "33) Top 12 Movies about Trading \n",
            "\n",
            "34) Pure Price Action Trading Signals \n",
            "\n",
            "35) THE GOLD/SILVER RATIO AT ALL-TIME HIGH. \n",
            "\n",
            "WHICH MAKES SILVER HISTORICALLY CHEAP:  \n",
            "\n",
            "$SLV $GLD\n",
            "\n",
            "36)   It can be a wild one.\n",
            "\n",
            "37) SILVER ISHARES REACH FOUR-YEAR HIGH: $SLV \n",
            "\n",
            "38) Best Finance Movies on Netflix \n",
            "\n",
            "39) This is very diverse stock market price action and peope are having very different experiences today based on what their specific positions are. \n",
            "\n",
            "Equities as an asset class are not under accumulation it is different for each sector and even each index.\n",
            "\n"
          ],
          "name": "stdout"
        }
      ]
    },
    {
      "cell_type": "code",
      "metadata": {
        "id": "Utoa3IjtBQ-8",
        "colab_type": "code",
        "colab": {
          "base_uri": "https://localhost:8080/",
          "height": 588
        },
        "outputId": "76a07782-66f5-4622-bcdb-b9fc43794c6d"
      },
      "source": [
        "#print the negative tweets\n",
        "j=1\n",
        "sortedDF = df.sort_values(by=['Polarity'], ascending= False)\n",
        "for i in range(0,sortedDF.shape[0]):\n",
        "  if(sortedDF['Analysis'][i] == 'Negative'):\n",
        "    print(str(j) + ') '+ sortedDF['Tweets'][i])\n",
        "    print()\n",
        "    j=j+1"
      ],
      "execution_count": null,
      "outputs": [
        {
          "output_type": "stream",
          "text": [
            "1) The only thing that works in trading over the long term is a trading system with an edge.\n",
            "\n",
            "2)  Second round? It’s already round 12. \n",
            "\n",
            "3) U.S. weekly jobless claims total 1.416 million, vs 1.3 million expected: \n",
            "\n",
            "4) Buying Berkshire-Hathaway stock over the past 60 years has been like hiring Warren Buffett as your fund manager. $BRK.A\n",
            "\n",
            "5) A Moving Average Strategy that Beats Buy and Hold \n",
            "\n",
            "6) Common Mistakes in Technical Analysis \n",
            "\n",
            "7) $TSLA Q2 report, compared to consensus estimates compiled by Bloomberg\n",
            "\n",
            "Revenue: $6.04 billion vs. $5.4 billion expected vs. $6.35 billion Y/Y\n",
            "\n",
            "GAAP earnings per share: 50 cents, vs. GAAP loss per share of $1.06 expected &amp; GAAP loss per share of $2.31 Y/Y:   \n",
            "\n",
            "8) $MSFT Earnings: $1.46 per share, adjusted, vs. $1.34 per share as expected by analysts.\n",
            "\n",
            "Revenue: $38.03 billion, vs. $36.50 billion as expected by analysts:  \n",
            "\n",
            "9) Slack accuses Microsoft of anticompetitive practices in EU complaint:  $WORK $MSFT\n",
            "\n",
            "10) “Buying a weak stock is like betting on a slow horse.” - Tyler Bollhorn\n",
            "\n",
            "11) There is energy in the beginner's mind as it is expanded with the possible opportunity and not weighed down by reality.\n",
            "\n",
            "12)       There are several fake accounts running all the time, I report the new ones daily. Disgusting.\n",
            "\n",
            "13) What do you drink while trading? \n",
            "\n",
            "Comment for other.\n",
            "\n"
          ],
          "name": "stdout"
        }
      ]
    },
    {
      "cell_type": "code",
      "metadata": {
        "id": "gtNctCLcGRwp",
        "colab_type": "code",
        "colab": {
          "base_uri": "https://localhost:8080/",
          "height": 405
        },
        "outputId": "cbbab2ed-1225-4abb-cfda-2b2a034078fc"
      },
      "source": [
        "#plot the polarity and the subjectivity\n",
        "plt.figure(figsize=(8,6))\n",
        "for i in range(0, df.shape[0]):\n",
        "  plt.scatter(df['Polarity'][i], df['Subjectivity'][i], color='Blue')\n",
        "\n",
        "plt.title('Sentiment Analysis')\n",
        "plt.xlabel('Polarity')\n",
        "plt.ylabel('Subjectivity')\n",
        "plt.show()\n"
      ],
      "execution_count": null,
      "outputs": [
        {
          "output_type": "display_data",
          "data": {
            "image/png": "[encoded data removed]",
            "text/plain": [
              "<Figure size 576x432 with 1 Axes>"
            ]
          },
          "metadata": {
            "tags": [],
            "needs_background": "light"
          }
        }
      ]
    },
    {
      "cell_type": "code",
      "metadata": {
        "id": "ecWZUkUKI7aI",
        "colab_type": "code",
        "colab": {
          "base_uri": "https://localhost:8080/",
          "height": 34
        },
        "outputId": "1819b37f-79cc-4c66-c406-427813a19206"
      },
      "source": [
        "#get the percentage of positive tweets\n",
        "ptweets = df[df.Analysis == 'Positive']\n",
        "ptweets = ptweets['Tweets']\n",
        "\n",
        "round((ptweets.shape[0] / df.shape[0]) *100 , 1)"
      ],
      "execution_count": null,
      "outputs": [
        {
          "output_type": "execute_result",
          "data": {
            "text/plain": [
              "39.0"
            ]
          },
          "metadata": {
            "tags": []
          },
          "execution_count": 15
        }
      ]
    },
    {
      "cell_type": "code",
      "metadata": {
        "id": "vK--BB0BLsGs",
        "colab_type": "code",
        "colab": {
          "base_uri": "https://localhost:8080/",
          "height": 34
        },
        "outputId": "b79f8116-7780-4e5c-d78d-e9ae853ede31"
      },
      "source": [
        " #get the percentage of negative tweets\n",
        " ntweets = df[df.Analysis == 'Negative']\n",
        " ntweets = ntweets['Tweets']\n",
        "\n",
        " round((ntweets.shape[0] / df.shape[0]) *100 , 1)"
      ],
      "execution_count": null,
      "outputs": [
        {
          "output_type": "execute_result",
          "data": {
            "text/plain": [
              "13.0"
            ]
          },
          "metadata": {
            "tags": []
          },
          "execution_count": 16
        }
      ]
    },
    {
      "cell_type": "code",
      "metadata": {
        "id": "DnZSyRTMN8x5",
        "colab_type": "code",
        "colab": {
          "base_uri": "https://localhost:8080/",
          "height": 331
        },
        "outputId": "3c9047bf-ae99-4f19-c35d-8463a7e99c4f"
      },
      "source": [
        "#Show the value counts\n",
        "\n",
        "df['Analysis'].value_counts()\n",
        "\n",
        "#plot and visualize the counts\n",
        "plt.title('Sentiment Analysis')\n",
        "plt.xlabel('Sentiment')\n",
        "plt.ylabel('Counts')\n",
        "df['Analysis'].value_counts().plot(kind='bar')\n",
        "plt.show()"
      ],
      "execution_count": null,
      "outputs": [
        {
          "output_type": "display_data",
          "data": {
            "image/png": "[encoded data removed]",
            "text/plain": [
              "<Figure size 432x288 with 1 Axes>"
            ]
          },
          "metadata": {
            "tags": [],
            "needs_background": "light"
          }
        }
      ]
    },
    {
      "cell_type": "code",
      "metadata": {
        "id": "CHH_L41KO4K5",
        "colab_type": "code",
        "colab": {}
      },
      "source": [
        ""
      ],
      "execution_count": null,
      "outputs": []
    }
  ]
}